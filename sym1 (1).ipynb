{
 "cells": [
  {
   "cell_type": "code",
   "execution_count": 14,
   "metadata": {},
   "outputs": [
    {
     "data": {
      "text/latex": [
       "$\\displaystyle 1.414213562373095048801688724209698078569671875376948073176679737990732478462107038850387534327641573$"
      ],
      "text/plain": [
       "1.414213562373095048801688724209698078569671875376948073176679737990732478462107038850387534327641573"
      ]
     },
     "execution_count": 14,
     "metadata": {},
     "output_type": "execute_result"
    }
   ],
   "source": [
    "from sympy import *   #Q:Calculate sqrt (2) with 100 decimals\n",
    "N(sqrt(2),100)"
   ]
  },
  {
   "cell_type": "code",
   "execution_count": 2,
   "metadata": {},
   "outputs": [
    {
     "name": "stdout",
     "output_type": "stream",
     "text": [
      "5/6\n"
     ]
    }
   ],
   "source": [
    "import sympy as sympy    #Q:Calculate (1/2+1/3) in rational arithmetic.\n",
    "from sympy import *\n",
    "x = Rational(1,2)\n",
    "y = Rational(1,3)\n",
    "print(x+y)"
   ]
  },
  {
   "cell_type": "code",
   "execution_count": 3,
   "metadata": {},
   "outputs": [
    {
     "name": "stdout",
     "output_type": "stream",
     "text": [
      "x**6 + 6*x**5*y + 15*x**4*y**2 + 20*x**3*y**3 + 15*x**2*y**4 + 6*x*y**5 + y**6\n"
     ]
    }
   ],
   "source": [
    "import sympy as sympy    #Q:Calculate the expanded form of (x+y) ^ 6.\n",
    "from sympy import *\n",
    "x, y = symbols('x y')\n",
    "exp1 = x + y\n",
    "exp = sympy.expand(exp1**6)\n",
    "print(exp)"
   ]
  },
  {
   "cell_type": "code",
   "execution_count": 4,
   "metadata": {},
   "outputs": [
    {
     "name": "stdout",
     "output_type": "stream",
     "text": [
      "tan(x)\n"
     ]
    }
   ],
   "source": [
    "import sympy as sympy   #Q:Simplify the trigonometric expression sin (x) / cos (x)\n",
    "from sympy import *\n",
    "x, y = symbols('x y')\n",
    "tri = trigsimp(sin(x)/cos(x))\n",
    "print(tri)"
   ]
  },
  {
   "cell_type": "code",
   "execution_count": 5,
   "metadata": {},
   "outputs": [
    {
     "name": "stdout",
     "output_type": "stream",
     "text": [
      "-1/6\n"
     ]
    }
   ],
   "source": [
    "import sympy as sympy    #Q:Calculate sin x -xx^3n\n",
    "from sympy import *\n",
    "x = symbols('x')\n",
    "cal = sympy.limit((sin(x)-x)/x**3, x, 0)\n",
    "print(cal)"
   ]
  },
  {
   "cell_type": "code",
   "execution_count": 6,
   "metadata": {},
   "outputs": [
    {
     "name": "stdout",
     "output_type": "stream",
     "text": [
      "-1/6\n"
     ]
    }
   ],
   "source": [
    "import sympy as s    #Q:Calculate sin x -xx^3n\n",
    "from sympy import *\n",
    "x = symbols('x')\n",
    "cal = s.limit((sin(x)-x)/x**3, x, 0)\n",
    "print(cal)"
   ]
  },
  {
   "cell_type": "code",
   "execution_count": 7,
   "metadata": {},
   "outputs": [
    {
     "name": "stdout",
     "output_type": "stream",
     "text": [
      "1/3\n"
     ]
    }
   ],
   "source": [
    "import sympy\n",
    "#from sympy import *\n",
    "print(Rational(1,3))"
   ]
  },
  {
   "cell_type": "markdown",
   "metadata": {},
   "source": [
    "import sympy\n",
    "print(pi.evalf())"
   ]
  },
  {
   "cell_type": "code",
   "execution_count": 8,
   "metadata": {
    "scrolled": true
   },
   "outputs": [
    {
     "data": {
      "text/latex": [
       "$\\displaystyle 5.85987448204884$"
      ],
      "text/plain": [
       "5.85987448204884"
      ]
     },
     "execution_count": 8,
     "metadata": {},
     "output_type": "execute_result"
    }
   ],
   "source": [
    "import sympy as s\n",
    "from sympy import *\n",
    "(s.pi+s.exp(1)).evalf()\n"
   ]
  },
  {
   "cell_type": "code",
   "execution_count": 9,
   "metadata": {},
   "outputs": [],
   "source": [
    "import sympy as sym\n",
    "x1=sym.Symbol('x')\n",
    "y1=sym.Symbol('y')\n",
    "t=x1+y1+x1-y1\n"
   ]
  },
  {
   "cell_type": "code",
   "execution_count": 10,
   "metadata": {},
   "outputs": [
    {
     "name": "stdout",
     "output_type": "stream",
     "text": [
      "sin(x)**2 + cos(x)**2\n",
      "After Simplification : 1\n"
     ]
    }
   ],
   "source": [
    "from sympy import * # import sympy\n",
    "x = symbols('x')\n",
    "# Use sympy.series() method\n",
    "series_fun= cos(x)**2 +sin(x)**2\n",
    "print(series_fun)\n",
    "smpl = simplify(series_fun)\n",
    "print(\"After Simplification : {}\".format(smpl))\n"
   ]
  },
  {
   "cell_type": "code",
   "execution_count": 11,
   "metadata": {},
   "outputs": [
    {
     "name": "stdout",
     "output_type": "stream",
     "text": [
      "Matrix([[1, 2, 3], [4, 5, 6], [7, 8, 9]])\n",
      "⎡10  10  10⎤\n",
      "⎢          ⎥\n",
      "⎢10  10  10⎥\n",
      "⎢          ⎥\n",
      "⎣10  10  10⎦\n",
      "⎡30   24   18⎤\n",
      "⎢            ⎥\n",
      "⎢84   69   54⎥\n",
      "⎢            ⎥\n",
      "⎣138  114  90⎦\n",
      "{15/2 - 3*sqrt(33)/2: 1, 15/2 + 3*sqrt(33)/2: 1, 0: 1}\n"
     ]
    }
   ],
   "source": [
    "import sympy as sym\n",
    "from sympy import *\n",
    "#matrix\n",
    "m1 = sym.Matrix([[1,2,3],[4,5,6],[7,8,9]])\n",
    "m2 = sym.Matrix([[9,8,7],[6,5,4],[3,2,1]])\n",
    "print(m1)\n",
    "#addition of two matrix\n",
    "sym.pprint(m1+m2)\n",
    "#multiplication\n",
    "sym.pprint(m1*m2)\n",
    "#eigen vectors\n",
    "eg=sym.Matrix.eigenvals(m1)\n",
    "print(eg)\n"
   ]
  },
  {
   "cell_type": "code",
   "execution_count": 12,
   "metadata": {},
   "outputs": [
    {
     "name": "stdout",
     "output_type": "stream",
     "text": [
      "5*x**4\n",
      "1206/5\n",
      "FiniteSet(-4, 3)\n",
      "{x: -3, y: 1}\n",
      "x**2 + 2*x + 1\n",
      "y + 1\n",
      "(x**2 - x - 1)*(x**2 + x - 1)\n",
      "{y: True, x: True}\n",
      "Matrix([[1, 2, 3], [4, 5, 6], [7, 8, 9]])\n",
      "⎡10  10  10⎤\n",
      "⎢          ⎥\n",
      "⎢10  10  10⎥\n",
      "⎢          ⎥\n",
      "⎣10  10  10⎦\n",
      "⎡30   24   18⎤\n",
      "⎢            ⎥\n",
      "⎢84   69   54⎥\n",
      "⎢            ⎥\n",
      "⎣138  114  90⎦\n",
      "{15/2 - 3*sqrt(33)/2: 1, 15/2 + 3*sqrt(33)/2: 1, 0: 1}\n"
     ]
    }
   ],
   "source": [
    "import sympy as sym\n",
    "x = sym.Symbol('x')\n",
    "y = sym.Symbol('y')\n",
    "#differentiation\n",
    "print(sym.diff(x**5))\n",
    "#integration\n",
    "print(sym.integrate((3 * x**4 + 4 * x**3 + 4 * x), (x, 1, 3)))\n",
    "#solve expression\n",
    "sol = sym.solveset(x**2 + x - 12, x)\n",
    "print(sol)\n",
    "sol = sym.solve((x + 5 * y - 2, -3 * x + 6 * y - 15), (x, y))\n",
    "print(sol)\n",
    "#expand\n",
    "expr = (x + 1)**2\n",
    "print(sym.expand(expr))\n",
    "#simplify\n",
    "print(sym.simplify((x + x * y) / x))\n",
    "#factors\n",
    "f = x**4 - 3 * x**2 + 1\n",
    "print(sym.factor(f))\n",
    "print(sym.satisfiable(x & y))\n",
    "#matrix\n",
    "m1 = sym.Matrix([[1, 2, 3], [4, 5, 6], [7, 8, 9]])\n",
    "m2 = sym.Matrix([[9, 8, 7], [6, 5, 4], [3, 2, 1]])\n",
    "print(m1)\n",
    "#addition of two matrix\n",
    "sym.pprint(m1 + m2)\n",
    "#multiplication\n",
    "sym.pprint(m1 * m2)\n",
    "#eigen vectors\n",
    "eg = sym.Matrix.eigenvals(m1)\n",
    "print(eg)"
   ]
  },
  {
   "cell_type": "code",
   "execution_count": null,
   "metadata": {},
   "outputs": [],
   "source": []
  }
 ],
 "metadata": {
  "gist": {
   "data": {
    "description": "sym1.ipynb",
    "public": true
   },
   "id": ""
  },
  "kernelspec": {
   "display_name": "Python 3",
   "language": "python",
   "name": "python3"
  },
  "language_info": {
   "codemirror_mode": {
    "name": "ipython",
    "version": 3
   },
   "file_extension": ".py",
   "mimetype": "text/x-python",
   "name": "python",
   "nbconvert_exporter": "python",
   "pygments_lexer": "ipython3",
   "version": "3.8.5"
  }
 },
 "nbformat": 4,
 "nbformat_minor": 4
}
