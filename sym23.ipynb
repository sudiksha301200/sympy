{
 "cells": [
  {
   "cell_type": "code",
   "execution_count": 1,
   "metadata": {},
   "outputs": [
    {
     "name": "stdout",
     "output_type": "stream",
     "text": [
      "a - b\n"
     ]
    }
   ],
   "source": [
    "import sympy as sympy #Q2:Develop a python code for to carryout the operations on the given algebraic manipulation for the given expression a2−ab+ab−b2=a2−b2  by using the symbolic programming paradigms principles.\n",
    "from sympy import *\n",
    "a, b = symbols('a b')\n",
    "exp = simplify(a - (a*b) + (a*b) - b)\n",
    "print(exp)"
   ]
  },
  {
   "cell_type": "code",
   "execution_count": 2,
   "metadata": {
    "scrolled": true
   },
   "outputs": [
    {
     "name": "stdout",
     "output_type": "stream",
     "text": [
      "a**3/3\n"
     ]
    }
   ],
   "source": [
    "import sympy as sympy    \n",
    "from sympy import *   #question3a: ∬a2 da\n",
    "exp = a**2\n",
    "inte = integrate(exp, a)\n",
    "print(inte)"
   ]
  },
  {
   "cell_type": "code",
   "execution_count": 3,
   "metadata": {},
   "outputs": [
    {
     "name": "stdout",
     "output_type": "stream",
     "text": [
      "[{x: -y**2/2}]\n"
     ]
    }
   ],
   "source": [
    "import sympy as sympy    \n",
    "from sympy import *      #question3b:  2x+y2\n",
    "x, y = symbols('x y')\n",
    "exp = (2*x + y**2)\n",
    "sol = solve(exp)\n",
    "print(sol)"
   ]
  },
  {
   "cell_type": "code",
   "execution_count": 4,
   "metadata": {},
   "outputs": [
    {
     "name": "stdout",
     "output_type": "stream",
     "text": [
      "3/10\n"
     ]
    }
   ],
   "source": [
    "import sympy as sympy    \n",
    "from sympy import *       #question3c: 1/10 + 1/5\n",
    "x= Rational(1, 10)\n",
    "y = Rational(1, 5)\n",
    "print(x + y)"
   ]
  },
  {
   "cell_type": "code",
   "execution_count": 5,
   "metadata": {},
   "outputs": [
    {
     "name": "stdout",
     "output_type": "stream",
     "text": [
      "cos(x)\n"
     ]
    }
   ],
   "source": [
    "import sympy as sympy    \n",
    "from sympy import *       #question3d: d/dx(sin(x))\n",
    "x = symbols('x')\n",
    "exp = sin(x)\n",
    "dif = diff(exp, x)\n",
    "print(dif)"
   ]
  },
  {
   "cell_type": "code",
   "execution_count": null,
   "metadata": {},
   "outputs": [],
   "source": []
  }
 ],
 "metadata": {
  "kernelspec": {
   "display_name": "Python 3",
   "language": "python",
   "name": "python3"
  },
  "language_info": {
   "codemirror_mode": {
    "name": "ipython",
    "version": 3
   },
   "file_extension": ".py",
   "mimetype": "text/x-python",
   "name": "python",
   "nbconvert_exporter": "python",
   "pygments_lexer": "ipython3",
   "version": "3.8.5"
  }
 },
 "nbformat": 4,
 "nbformat_minor": 4
}
